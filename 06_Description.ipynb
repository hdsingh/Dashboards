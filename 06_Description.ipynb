{
 "cells": [
  {
   "cell_type": "code",
   "execution_count": null,
   "metadata": {
    "ExecuteTime": {
     "end_time": "2019-05-31T07:00:19.240353Z",
     "start_time": "2019-05-31T07:00:17.942913Z"
    }
   },
   "outputs": [],
   "source": [
    "import xarray as xr\n",
    "import intake\n",
    "import holoviews as hv\n",
    "from holoviews.streams import Selection1D\n",
    "import pandas as pd\n",
    "import panel as pn\n",
    "hv.extension('bokeh')"
   ]
  },
  {
   "cell_type": "code",
   "execution_count": null,
   "metadata": {
    "ExecuteTime": {
     "end_time": "2019-05-31T07:00:19.245468Z",
     "start_time": "2019-05-31T07:00:19.243351Z"
    }
   },
   "outputs": [],
   "source": [
    "master_catalog = 'https://raw.githubusercontent.com/pangeo-data/pangeo-datastore/master/intake-catalogs/master.yaml'"
   ]
  },
  {
   "cell_type": "code",
   "execution_count": null,
   "metadata": {
    "ExecuteTime": {
     "end_time": "2019-05-31T07:00:19.265917Z",
     "start_time": "2019-05-31T07:00:19.247977Z"
    }
   },
   "outputs": [],
   "source": [
    "ds = xr.open_dataset('great_lakes.nc')"
   ]
  },
  {
   "cell_type": "code",
   "execution_count": null,
   "metadata": {
    "ExecuteTime": {
     "end_time": "2019-05-31T07:00:19.271431Z",
     "start_time": "2019-05-31T07:00:19.268623Z"
    }
   },
   "outputs": [],
   "source": [
    "# gui = intake.gui\n",
    "# gui.add(master_catalog)\n",
    "# gui"
   ]
  },
  {
   "cell_type": "code",
   "execution_count": null,
   "metadata": {
    "ExecuteTime": {
     "end_time": "2019-05-31T07:00:19.276111Z",
     "start_time": "2019-05-31T07:00:19.274244Z"
    }
   },
   "outputs": [],
   "source": [
    "# ds = gui.item\n",
    "# ds = ds.to_dask()"
   ]
  },
  {
   "cell_type": "code",
   "execution_count": null,
   "metadata": {
    "ExecuteTime": {
     "end_time": "2019-05-31T07:00:19.281830Z",
     "start_time": "2019-05-31T07:00:19.278534Z"
    }
   },
   "outputs": [],
   "source": [
    "ds_dims = [(k,v) for k,v in ds.dims.items()]\n",
    "ds_coords = [coord for coord in ds.coords.keys()]\n",
    "ds_data_vars = [var for var in ds.data_vars]\n",
    "ds_attrs = [(k,v) for k,v in ds.attrs.items()]"
   ]
  },
  {
   "cell_type": "markdown",
   "metadata": {},
   "source": [
    "## DataSet"
   ]
  },
  {
   "cell_type": "code",
   "execution_count": null,
   "metadata": {
    "ExecuteTime": {
     "end_time": "2019-05-31T07:00:19.351329Z",
     "start_time": "2019-05-31T07:00:19.284008Z"
    }
   },
   "outputs": [],
   "source": [
    "ds_coord_table = hv.Table(ds_coords,'Coords')\n",
    "ds_coord_table.opts(width = 200);"
   ]
  },
  {
   "cell_type": "markdown",
   "metadata": {},
   "source": [
    "### Dataset Dimension Table"
   ]
  },
  {
   "cell_type": "code",
   "execution_count": null,
   "metadata": {
    "ExecuteTime": {
     "end_time": "2019-05-31T07:00:19.360826Z",
     "start_time": "2019-05-31T07:00:19.355202Z"
    }
   },
   "outputs": [],
   "source": [
    "dim_table = hv.Table(ds_dims,['Dimension','Count'])\n",
    "dim_table.opts(width = 200);"
   ]
  },
  {
   "cell_type": "markdown",
   "metadata": {},
   "source": [
    "### DataSet Attributes"
   ]
  },
  {
   "cell_type": "code",
   "execution_count": null,
   "metadata": {
    "ExecuteTime": {
     "end_time": "2019-05-31T07:00:19.368955Z",
     "start_time": "2019-05-31T07:00:19.363800Z"
    }
   },
   "outputs": [],
   "source": [
    "attr_table = hv.Table(ds_attrs,['Attribute','Description'])\n",
    "attr_table.opts(width = 500);"
   ]
  },
  {
   "cell_type": "markdown",
   "metadata": {},
   "source": [
    "### DataSet Properties"
   ]
  },
  {
   "cell_type": "code",
   "execution_count": null,
   "metadata": {
    "ExecuteTime": {
     "end_time": "2019-05-31T07:00:19.433916Z",
     "start_time": "2019-05-31T07:00:19.371760Z"
    }
   },
   "outputs": [],
   "source": [
    "pn.Column(\n",
    "    pn.Row(pn.pane.Markdown(\"### Dims\"),pn.Spacer(width = 140),\n",
    "           pn.pane.Markdown(\"### Coordinates\"),pn.Spacer(width = 65),\n",
    "           pn.pane.Markdown(\"### Attributes\")\n",
    "          ),\n",
    "    pn.Row(dim_table,ds_coord_table,attr_table,)\n",
    ")\n"
   ]
  },
  {
   "cell_type": "markdown",
   "metadata": {},
   "source": [
    "## Variables"
   ]
  },
  {
   "cell_type": "markdown",
   "metadata": {},
   "source": [
    "### Variable Name Table"
   ]
  },
  {
   "cell_type": "code",
   "execution_count": null,
   "metadata": {
    "ExecuteTime": {
     "end_time": "2019-05-31T07:00:19.444583Z",
     "start_time": "2019-05-31T07:00:19.436721Z"
    }
   },
   "outputs": [],
   "source": [
    "var_names = []\n",
    "for var in ds.data_vars.values():\n",
    "    var_names.append((var.name  ,\n",
    "                      str([dict(var.attrs.items()).get('long_name')][0]),\n",
    "                      ([coord for coord in var.coords.keys()])\n",
    "                     ))\n",
    "\n",
    "var_name_table = hv.Table(var_names,['Name','Long_Name','Coords'])\n",
    "var_table_stream = Selection1D(source = var_name_table)\n",
    "var_name_table.opts(width = 500,height = 300);"
   ]
  },
  {
   "cell_type": "markdown",
   "metadata": {},
   "source": [
    "### Variable Attributes"
   ]
  },
  {
   "cell_type": "code",
   "execution_count": null,
   "metadata": {
    "ExecuteTime": {
     "end_time": "2019-05-31T07:00:19.452136Z",
     "start_time": "2019-05-31T07:00:19.447611Z"
    }
   },
   "outputs": [],
   "source": [
    "def display_attrs(index):\n",
    "    if not index: \n",
    "        index =  0\n",
    "    else:\n",
    "        index = index[-1] \n",
    "    if var_name_table.data.empty:\n",
    "        return hv.Table([],['Name','Long_Name','Coords'])\n",
    "    else:\n",
    "        var = var_name_table.iloc[index].data['Name'].values[0]\n",
    "\n",
    "        v_attrs = [(k,v) for k,v in ds[var].attrs.items()]\n",
    "        v_attrs_table = hv.Table(v_attrs,['Attribute','Description'])\n",
    "        v_attrs_table.opts(width = 400,height = 300)\n",
    "        return v_attrs_table"
   ]
  },
  {
   "cell_type": "code",
   "execution_count": null,
   "metadata": {
    "ExecuteTime": {
     "end_time": "2019-05-31T07:00:19.460312Z",
     "start_time": "2019-05-31T07:00:19.456418Z"
    }
   },
   "outputs": [],
   "source": [
    "dtable = hv.DynamicMap(display_attrs,streams=[var_table_stream])\n",
    "# dtable"
   ]
  },
  {
   "cell_type": "code",
   "execution_count": null,
   "metadata": {
    "ExecuteTime": {
     "end_time": "2019-05-31T07:00:19.475615Z",
     "start_time": "2019-05-31T07:00:19.467861Z"
    }
   },
   "outputs": [],
   "source": [
    "h1 = pn.pane.Markdown(\"### Variables\")\n",
    "h2 = pn.pane.Markdown(\"### Attributes\")"
   ]
  },
  {
   "cell_type": "markdown",
   "metadata": {},
   "source": [
    "### Variable Properties"
   ]
  },
  {
   "cell_type": "code",
   "execution_count": null,
   "metadata": {
    "ExecuteTime": {
     "end_time": "2019-05-31T07:00:19.517246Z",
     "start_time": "2019-05-31T07:00:19.478692Z"
    },
    "scrolled": false
   },
   "outputs": [],
   "source": [
    "pn.Column(pn.Row(h1,pn.Spacer(width = 400),h2),\n",
    "          pn.Row(var_name_table,dtable)\n",
    "         )"
   ]
  }
 ],
 "metadata": {
  "kernelspec": {
   "display_name": "Python 3",
   "language": "python",
   "name": "python3"
  },
  "language_info": {
   "codemirror_mode": {
    "name": "ipython",
    "version": 3
   },
   "file_extension": ".py",
   "mimetype": "text/x-python",
   "name": "python",
   "nbconvert_exporter": "python",
   "pygments_lexer": "ipython3",
   "version": "3.7.3"
  }
 },
 "nbformat": 4,
 "nbformat_minor": 2
}
