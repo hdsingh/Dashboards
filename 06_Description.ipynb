{
 "cells": [
  {
   "cell_type": "code",
   "execution_count": null,
   "metadata": {},
   "outputs": [],
   "source": [
    "import xarray as xr\n",
    "import intake\n",
    "import holoviews as hv\n",
    "from holoviews.streams import Selection1D\n",
    "import pandas as pd\n",
    "hv.extension('bokeh')"
   ]
  },
  {
   "cell_type": "code",
   "execution_count": null,
   "metadata": {},
   "outputs": [],
   "source": [
    "master_catalog = 'https://raw.githubusercontent.com/pangeo-data/pangeo-datastore/master/intake-catalogs/master.yaml'\n",
    "url = 'http://opendap.co-ops.nos.noaa.gov/thredds/dodsC/NOAA/LOOFS/MODELS/201903/glofs.loofs.fields.forecast.20190320.t06z.nc'\n",
    "ds  = xr.open_dataset(url)"
   ]
  },
  {
   "cell_type": "code",
   "execution_count": null,
   "metadata": {},
   "outputs": [],
   "source": [
    "# gui = intake.gui\n",
    "# gui.add(master_catalog)\n",
    "# gui"
   ]
  },
  {
   "cell_type": "code",
   "execution_count": null,
   "metadata": {},
   "outputs": [],
   "source": [
    "# ds = gui.item\n",
    "# ds = ds.to_dask()"
   ]
  },
  {
   "cell_type": "code",
   "execution_count": null,
   "metadata": {},
   "outputs": [],
   "source": [
    "ds_dims = [dim for dim in ds.dims]\n",
    "ds_coords = [coord for coord in ds.coords.keys()]\n",
    "ds_data_vars = [var for var in ds.data_vars]\n",
    "ds_attrs = [(k,v) for k,v in ds.attrs.items()]"
   ]
  },
  {
   "cell_type": "code",
   "execution_count": null,
   "metadata": {},
   "outputs": [],
   "source": [
    "# ds_dims,ds_coords,ds_data_vars,ds_attrs"
   ]
  },
  {
   "cell_type": "code",
   "execution_count": null,
   "metadata": {},
   "outputs": [],
   "source": [
    "# for var in ds.data_vars.values():\n",
    "#     print(\"VAR: \" + var.name)\n",
    "#     print(\"DIM COORDS: \" + str([coord for coord in var.coords.keys()]))\n",
    "#     print(\"LONG_NAME:  \" + str([dict(var.attrs.items()).get('long_name')][0]))\n",
    "#     print(\"ATTRIBUTES: \")\n",
    "#     var_attrs = [(k,v) for k,v in var.attrs.items()]\n",
    "#     print(var_attrs)"
   ]
  },
  {
   "cell_type": "markdown",
   "metadata": {},
   "source": [
    "### Variable Name Table"
   ]
  },
  {
   "cell_type": "code",
   "execution_count": null,
   "metadata": {},
   "outputs": [],
   "source": [
    "var_names = []\n",
    "for var in ds.data_vars.values():\n",
    "    var_names.append((var.name  ,\n",
    "                      str([dict(var.attrs.items()).get('long_name')][0])\n",
    "                     ))\n",
    "\n",
    "var_name_table = hv.Table(var_names,['Name','Long_Name'])\n",
    "var_table_stream = Selection1D(source = var_name_table)\n",
    "var_name_table.opts(width = 600,height = 300)"
   ]
  },
  {
   "cell_type": "markdown",
   "metadata": {},
   "source": [
    "### Variable Attributes"
   ]
  },
  {
   "cell_type": "code",
   "execution_count": null,
   "metadata": {},
   "outputs": [],
   "source": [
    "def display_attrs(index):\n",
    "    if not index: \n",
    "        index =  0\n",
    "    else:\n",
    "        index = index[-1] \n",
    "    var = var_name_table.iloc[index].data['Name'].values[0]\n",
    "    v_attrs = [(k,v) for k,v in ds[var].attrs.items()]\n",
    "    v_attrs_table = hv.Table(v_attrs,['Attribute','Description'])\n",
    "    v_attrs_table.opts(width = 600,height = 150)\n",
    "    return v_attrs_table"
   ]
  },
  {
   "cell_type": "code",
   "execution_count": null,
   "metadata": {},
   "outputs": [],
   "source": [
    "hv.DynamicMap(display_attrs,streams=[var_table_stream])"
   ]
  },
  {
   "cell_type": "markdown",
   "metadata": {},
   "source": [
    "### DataSet Attributes"
   ]
  },
  {
   "cell_type": "code",
   "execution_count": null,
   "metadata": {},
   "outputs": [],
   "source": [
    "attr_table = hv.Table(ds_attrs,['Attribute','Description'])\n",
    "attr_table.opts(width = 600)"
   ]
  }
 ],
 "metadata": {
  "kernelspec": {
   "display_name": "Python 3",
   "language": "python",
   "name": "python3"
  },
  "language_info": {
   "codemirror_mode": {
    "name": "ipython",
    "version": 3
   },
   "file_extension": ".py",
   "mimetype": "text/x-python",
   "name": "python",
   "nbconvert_exporter": "python",
   "pygments_lexer": "ipython3",
   "version": "3.7.3"
  }
 },
 "nbformat": 4,
 "nbformat_minor": 2
}
