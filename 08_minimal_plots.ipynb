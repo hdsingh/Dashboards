{
 "cells": [
  {
   "cell_type": "code",
   "execution_count": null,
   "metadata": {
    "ExecuteTime": {
     "end_time": "2019-06-07T10:56:44.252545Z",
     "start_time": "2019-06-07T10:56:40.932561Z"
    }
   },
   "outputs": [],
   "source": [
    "import xarray as xr\n",
    "from cartopy import crs as ccrs\n",
    "import hvplot.xarray\n",
    "import holoviews as hv\n",
    "import geoviews as gv\n",
    "from geoviews import tile_sources as gvts\n",
    "import panel as pn\n",
    "import random\n",
    "from itertools import cycle\n",
    "from xrviz.control import Control\n",
    "pn.extension()\n",
    "crs = ccrs.PlateCarree()"
   ]
  },
  {
   "cell_type": "code",
   "execution_count": null,
   "metadata": {
    "ExecuteTime": {
     "end_time": "2019-06-07T10:56:44.261917Z",
     "start_time": "2019-06-07T10:56:44.257331Z"
    }
   },
   "outputs": [],
   "source": [
    "def select_multi_d_var(multi_d_vars):            \n",
    "    return random.sample(multi_d_vars,1)[0]\n",
    "\n",
    "def select_coords(var):   \n",
    "    coords = [coord for coord in data[var].coords.keys()]\n",
    "    x = random.sample(coords,1)[0]\n",
    "    coords.remove(x)\n",
    "    y = random.sample(coords,1)[0]  \n",
    "    return [x,y]"
   ]
  },
  {
   "cell_type": "markdown",
   "metadata": {},
   "source": [
    "### HRRR"
   ]
  },
  {
   "cell_type": "code",
   "execution_count": null,
   "metadata": {
    "ExecuteTime": {
     "end_time": "2019-06-07T09:28:00.270390Z",
     "start_time": "2019-06-07T09:27:56.674420Z"
    }
   },
   "outputs": [],
   "source": [
    "url = 'http://thredds-jetstream.unidata.ucar.edu/thredds/dodsC/grib/NCEP/HRRR/CONUS_2p5km/Best'\n",
    "data = xr.open_dataset(url)"
   ]
  },
  {
   "cell_type": "code",
   "execution_count": null,
   "metadata": {
    "ExecuteTime": {
     "end_time": "2019-06-07T09:28:00.321066Z",
     "start_time": "2019-06-07T09:28:00.273677Z"
    }
   },
   "outputs": [],
   "source": [
    "Control(data).panel"
   ]
  },
  {
   "cell_type": "code",
   "execution_count": null,
   "metadata": {
    "ExecuteTime": {
     "end_time": "2019-06-07T09:28:00.343215Z",
     "start_time": "2019-06-07T09:28:00.324810Z"
    }
   },
   "outputs": [],
   "source": [
    "multi_d_vars = [var  for var in list(data.variables) if len(data[var].dims)>2]"
   ]
  },
  {
   "cell_type": "code",
   "execution_count": null,
   "metadata": {
    "ExecuteTime": {
     "end_time": "2019-06-07T09:28:13.519373Z",
     "start_time": "2019-06-07T09:28:13.509981Z"
    }
   },
   "outputs": [],
   "source": [
    "var = select_multi_d_var(multi_d_vars)\n",
    "selected_coord = select_coords(var)\n",
    "print(var,selected_coord) #Usually works for ['y', 'x']"
   ]
  },
  {
   "cell_type": "code",
   "execution_count": null,
   "metadata": {
    "ExecuteTime": {
     "end_time": "2019-06-07T09:25:01.419350Z",
     "start_time": "2019-06-07T09:23:41.398799Z"
    }
   },
   "outputs": [],
   "source": [
    "data[var][:,:,:].hvplot.quadmesh(x=selected_coord[0], y=selected_coord[1], rasterize=True, \n",
    "                                    width=600, height=400, crs=crs,cmap='jet')                         "
   ]
  },
  {
   "cell_type": "code",
   "execution_count": null,
   "metadata": {
    "ExecuteTime": {
     "end_time": "2019-06-07T09:18:57.519191Z",
     "start_time": "2019-06-07T09:17:30.572015Z"
    }
   },
   "outputs": [],
   "source": [
    "data[var][:,:,:].hvplot.quadmesh(x='x', y='y', rasterize=True, \n",
    "                                    width=600, height=400, crs=crs,cmap='jet')                         "
   ]
  },
  {
   "cell_type": "markdown",
   "metadata": {},
   "source": [
    "### Coast"
   ]
  },
  {
   "cell_type": "code",
   "execution_count": null,
   "metadata": {
    "ExecuteTime": {
     "end_time": "2019-06-07T09:29:01.286864Z",
     "start_time": "2019-06-07T09:28:35.300932Z"
    }
   },
   "outputs": [],
   "source": [
    "data = xr.open_dataset('http://gamone.whoi.edu/thredds/dodsC/coawst_4/use/fmrc/coawst_4_use_best.ncd')"
   ]
  },
  {
   "cell_type": "code",
   "execution_count": null,
   "metadata": {
    "ExecuteTime": {
     "end_time": "2019-06-07T09:29:01.398664Z",
     "start_time": "2019-06-07T09:29:01.292025Z"
    }
   },
   "outputs": [],
   "source": [
    "Control(data).panel"
   ]
  },
  {
   "cell_type": "code",
   "execution_count": null,
   "metadata": {
    "ExecuteTime": {
     "end_time": "2019-06-07T09:29:01.429962Z",
     "start_time": "2019-06-07T09:29:01.401947Z"
    }
   },
   "outputs": [],
   "source": [
    "multi_d_vars = [var  for var in list(data.variables) if len(data[var].dims)>2]"
   ]
  },
  {
   "cell_type": "code",
   "execution_count": null,
   "metadata": {
    "ExecuteTime": {
     "end_time": "2019-06-07T09:29:01.436652Z",
     "start_time": "2019-06-07T09:29:01.433143Z"
    }
   },
   "outputs": [],
   "source": [
    "var = select_multi_d_var(multi_d_vars)\n",
    "selected_coord = select_coords(var)\n",
    "print(var,selected_coord) #Usually works for ['lon_rho', 'lat_rho']"
   ]
  },
  {
   "cell_type": "code",
   "execution_count": null,
   "metadata": {
    "ExecuteTime": {
     "end_time": "2019-06-07T08:58:05.077163Z",
     "start_time": "2019-06-07T08:55:50.307922Z"
    },
    "scrolled": false
   },
   "outputs": [],
   "source": [
    "data[var][:,:,:].hvplot.quadmesh(x=selected_coord[0], y=selected_coord[1], rasterize=True, \n",
    "                                    width=600, height=400, crs=crs,cmap='jet')                         "
   ]
  },
  {
   "cell_type": "markdown",
   "metadata": {},
   "source": [
    "### GreatLakes"
   ]
  },
  {
   "cell_type": "code",
   "execution_count": null,
   "metadata": {
    "ExecuteTime": {
     "end_time": "2019-06-07T10:56:50.391932Z",
     "start_time": "2019-06-07T10:56:50.369618Z"
    }
   },
   "outputs": [],
   "source": [
    "data = xr.open_dataset(\"/home/hdsingh/Desktop/xrviz/xrviz/sample_data/great_lakes.nc\");"
   ]
  },
  {
   "cell_type": "code",
   "execution_count": null,
   "metadata": {
    "ExecuteTime": {
     "end_time": "2019-06-07T10:56:50.785319Z",
     "start_time": "2019-06-07T10:56:50.773396Z"
    }
   },
   "outputs": [],
   "source": [
    "extra_coords = ['lat','lon']\n",
    "for ec in extra_coords:\n",
    "    if hasattr(data,ec):\n",
    "        if ec not in list(data.coords):\n",
    "            data.set_coords([ec],inplace = True);"
   ]
  },
  {
   "cell_type": "code",
   "execution_count": null,
   "metadata": {
    "ExecuteTime": {
     "end_time": "2019-06-07T10:56:52.905894Z",
     "start_time": "2019-06-07T10:56:52.845513Z"
    }
   },
   "outputs": [],
   "source": [
    "Control(data).panel"
   ]
  },
  {
   "cell_type": "code",
   "execution_count": null,
   "metadata": {
    "ExecuteTime": {
     "end_time": "2019-06-07T10:56:53.855332Z",
     "start_time": "2019-06-07T10:56:53.845502Z"
    }
   },
   "outputs": [],
   "source": [
    "multi_d_vars = [var  for var in list(data.variables) if len(data[var].dims)>2]"
   ]
  },
  {
   "cell_type": "code",
   "execution_count": null,
   "metadata": {
    "ExecuteTime": {
     "end_time": "2019-06-07T10:57:17.866536Z",
     "start_time": "2019-06-07T10:57:17.862728Z"
    }
   },
   "outputs": [],
   "source": [
    "var = select_multi_d_var(multi_d_vars)\n",
    "selected_coord = select_coords(var)\n",
    "print(var,selected_coord) #works for ['lat', 'lon']"
   ]
  },
  {
   "cell_type": "code",
   "execution_count": null,
   "metadata": {
    "ExecuteTime": {
     "end_time": "2019-06-07T10:57:22.377943Z",
     "start_time": "2019-06-07T10:57:20.518394Z"
    }
   },
   "outputs": [],
   "source": [
    "data[var][:,:,:].hvplot.quadmesh(x=selected_coord[0], y=selected_coord[1], rasterize=True, \n",
    "                                    width=600, height=400, crs=crs,cmap='jet')  "
   ]
  },
  {
   "cell_type": "code",
   "execution_count": null,
   "metadata": {},
   "outputs": [],
   "source": []
  }
 ],
 "metadata": {
  "kernelspec": {
   "display_name": "Python 3",
   "language": "python",
   "name": "python3"
  },
  "language_info": {
   "codemirror_mode": {
    "name": "ipython",
    "version": 3
   },
   "file_extension": ".py",
   "mimetype": "text/x-python",
   "name": "python",
   "nbconvert_exporter": "python",
   "pygments_lexer": "ipython3",
   "version": "3.7.3"
  }
 },
 "nbformat": 4,
 "nbformat_minor": 2
}
