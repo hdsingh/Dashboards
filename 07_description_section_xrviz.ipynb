{
 "cells": [
  {
   "cell_type": "code",
   "execution_count": null,
   "metadata": {
    "ExecuteTime": {
     "end_time": "2019-05-31T14:35:06.459474Z",
     "start_time": "2019-05-31T14:35:05.315525Z"
    }
   },
   "outputs": [],
   "source": [
    "from bokeh import palettes\n",
    "import panel as pn\n",
    "from hvplot import hvPlot\n",
    "\n",
    "import xarray as  xr\n",
    "import panel as pn\n",
    "from jinja2 import Environment, FileSystemLoader\n",
    "\n",
    "pn.extension()\n",
    "\n",
    "ds = xr.open_dataset('data/great_lakes.nc')"
   ]
  },
  {
   "cell_type": "markdown",
   "metadata": {},
   "source": [
    "### SigSlot"
   ]
  },
  {
   "cell_type": "code",
   "execution_count": null,
   "metadata": {
    "ExecuteTime": {
     "end_time": "2019-05-31T14:35:06.471798Z",
     "start_time": "2019-05-31T14:35:06.463201Z"
    },
    "code_folding": [
     0
    ]
   },
   "outputs": [],
   "source": [
    "class SigSlot(object):\n",
    "    \"\"\"Signal-slot mixin, for Panel event passing\"\"\"\n",
    "\n",
    "    def __init__(self):\n",
    "        self._sigs = {}\n",
    "        self._map = {}\n",
    "\n",
    "    def _register(self, widget, name, thing='value'):\n",
    "        \"\"\"Watch the given attribute of a widget and assign it a named event\n",
    "\n",
    "        This is normally called at the time a widget is instantiated, in the\n",
    "        class which owns it.\n",
    "\n",
    "        Parameters\n",
    "        ----------\n",
    "        widget : pn.layout.Panel or None\n",
    "            Widget to watch. If None, an anonymous signal not associated with\n",
    "            any widget.\n",
    "        name : str\n",
    "            Name of this event\n",
    "        thing : str\n",
    "            Attribute of the given widget to watch\n",
    "        \"\"\"\n",
    "        self._sigs[name] = {'widget': widget, 'callbacks': [], 'thing': thing}\n",
    "        wn = \"-\".join([widget.name if widget is not None else \"none\", thing])\n",
    "        self._map[wn] = name\n",
    "        if widget is not None:\n",
    "            widget.param.watch(self._signal, thing, onlychanged=True)\n",
    "\n",
    "    @property\n",
    "    def signals(self):\n",
    "        \"\"\"Known named signals of this class\"\"\"\n",
    "        return list(self._sigs)\n",
    "\n",
    "    def connect(self, name, callback):\n",
    "        \"\"\"Associate call back with given event\n",
    "\n",
    "        The callback must be a function which takes the \"new\" value of the\n",
    "        watched attribute as the only parameter. If the callback return False,\n",
    "        this cancels any further processing of the given event.\n",
    "        \"\"\"\n",
    "        self._sigs[name]['callbacks'].append(callback)\n",
    "\n",
    "    def _signal(self, event):\n",
    "        wn = \"-\".join([event.obj.name, event.name])\n",
    "#         print(wn, event)\n",
    "        if wn in self._map and self._map[wn] in self._sigs:\n",
    "            self._emit(self._map[wn], event.new)\n",
    "\n",
    "    def _emit(self, sig, value=None):\n",
    "        for callback in self._sigs[sig]['callbacks']:\n",
    "            if callback(value) is False:\n",
    "                break\n",
    "\n",
    "    def show(self):\n",
    "        self.panel.show()"
   ]
  },
  {
   "cell_type": "markdown",
   "metadata": {},
   "source": [
    "### Xrviz DataArray/Coordinate Selection Panel "
   ]
  },
  {
   "cell_type": "code",
   "execution_count": null,
   "metadata": {
    "ExecuteTime": {
     "end_time": "2019-05-31T14:35:06.509092Z",
     "start_time": "2019-05-31T14:35:06.478647Z"
    },
    "code_folding": []
   },
   "outputs": [],
   "source": [
    "class DataSelector(SigSlot):\n",
    "    \"\"\"\n",
    "    This widget takes input as a xarray instance.\n",
    "    For each dataset the properties:\n",
    "    'Dimensions','Coordinates','Variables','Attributes'\n",
    "    are dislpayed. On selecting one of these,the expansion \n",
    "    occurs to show  the arrtibutes associated with it.\n",
    "    \n",
    "    It of these individual property could be expanded accordingly.\n",
    "    \n",
    "    Parameters\n",
    "    ----------\n",
    "    ds: `xarray` instance: `DataSet` or `DataArray`\n",
    "        datset is used to initialize the DataSelector\n",
    "        \n",
    "    Attributes\n",
    "    ----------\n",
    "    selected_property: property which has been  selected in multiselect\n",
    "        One of 'Dimensions','Coordinates','Variables','Attributes'\n",
    "    selected_subproperty: subproperty which has been selected\n",
    "        An attribute of its property.\n",
    "        Example: `nx`,`ny`,`time` for property `Dimensions`.\n",
    "    panel: Displays the generated Multiselect object\n",
    "          \n",
    "    Reason for adding initial letter in front of a sub_property:\n",
    "       It will act as option separator for the multiSelect.\n",
    "       Ex: Variable 'time' could be present in both `Dimensions` and\n",
    "           and `Coordinates`. Upon selection of any one, both are\n",
    "           automatically selected. However in presence of `letter`\n",
    "           `d :time` belongs to dimensions while `c : time` belongs\n",
    "           to `Coordinates`.\n",
    "           \n",
    "    \"\"\"\n",
    "    \n",
    "    def __init__(self,ds):\n",
    "        super().__init__()\n",
    "        if isinstance(ds,xr.Dataset) or isinstance(ds,xr.DataArray):\n",
    "            self.data = ds\n",
    "        \n",
    "        self.down = '│'\n",
    "        self.right = '└──'\n",
    "        self.properties = {'Dimensions' :'dims',\n",
    "                           'Coordinates':'coords',\n",
    "                           'Variables'  :'data_vars',\n",
    "                           'Attributes' :'attrs'}\n",
    "        \n",
    "        self.rev_map = {'d' : 'Dimensions',\n",
    "                        'c' : 'Coordinates',\n",
    "                        'v' : 'Variables',\n",
    "                        'a' : 'Attributes'}\n",
    "            \n",
    "        self.selected_property = None\n",
    "        self.selected_subproperty = None      \n",
    "        self.select =  pn.widgets.MultiSelect(size=8, min_width=300, width_policy='min')\n",
    "        self.fill_items(self.select.options)\n",
    "                \n",
    "        self._register(self.select,\"property_selector\")\n",
    "        self.connect(\"property_selector\",self.expand_or_collapse_nested)\n",
    "         \n",
    "        self.panel = pn.Row(self.select)\n",
    "    \n",
    "    def fill_items(self,items):\n",
    "        if isinstance(self.data,xr.Dataset):\n",
    "            items.append('# DataSet')\n",
    "            for prop in list(self.properties):\n",
    "                items.append(f'{self.right} {prop}')\n",
    "        else:\n",
    "            items.append('# DataArray')\n",
    "        \n",
    "    def expand_or_collapse_nested(self,value):\n",
    "        self._property = value[0].split()[-1]\n",
    "        \n",
    "        def find_prop_and_subprop(value):\n",
    "            prop,subprop = None,None\n",
    "            if \" : \" in value[0]:\n",
    "                subprop = value[0].split()[-1]\n",
    "                prop = self.rev_map[value[0].split()[-3]]\n",
    "            else:\n",
    "                prop = value[0].split()[-1]\n",
    "            return prop,subprop\n",
    "        \n",
    "        def collapse(options,index):\n",
    "            for opt in options[index+1:]:\n",
    "                if opt.split()[0] ==self.right:\n",
    "                    break\n",
    "                if self.down in opt:\n",
    "                    options.remove(opt)\n",
    "            return options\n",
    "        \n",
    "        def expand(options,name,index):\n",
    "            children  = get_children(name)\n",
    "            for i, child in enumerate(children):\n",
    "                options.insert(index+i+1, (f'{self.down} {self.right} {child}'))\n",
    "            return options\n",
    "        \n",
    "        def get_children(prop):\n",
    "            ds_prop = self.properties[prop]\n",
    "            if ds_prop == \"data_vars\":\n",
    "                return ['v'+ \" : \" + child for child in getattr(ds,str(ds_prop)).keys()] \n",
    "            else:\n",
    "                return [ds_prop[0]+ \" : \" + child for child in getattr(ds,str(ds_prop)).keys()]                 \n",
    "        \n",
    "        def has_expanded(selected_property,index):\n",
    "            next_index = index+1\n",
    "            if (next_index) < len(old) and (self.down in old[next_index]):\n",
    "                return True\n",
    "            else: \n",
    "                return False\n",
    "                                   \n",
    "        self.selected_property, self.selected_subproperty = find_prop_and_subprop(value)\n",
    "            \n",
    "        if self._property in list(self.properties):\n",
    "            old = list(self.select.options)\n",
    "            index,name = next((i,self.selected_property) for i,v in enumerate(old) if self.selected_property in v)\n",
    "            \n",
    "            if has_expanded(self.selected_property,index):\n",
    "                old = collapse(old,index)\n",
    "                self.select.options = list(old)\n",
    "            else:\n",
    "                old = expand(old,name,index)\n",
    "                self.select.options = list(old)"
   ]
  },
  {
   "cell_type": "code",
   "execution_count": null,
   "metadata": {
    "ExecuteTime": {
     "end_time": "2019-05-31T14:35:06.517859Z",
     "start_time": "2019-05-31T14:35:06.515156Z"
    }
   },
   "outputs": [],
   "source": [
    "# d  = DataSelector(ds)\n",
    "# d.panel"
   ]
  },
  {
   "cell_type": "code",
   "execution_count": null,
   "metadata": {
    "ExecuteTime": {
     "end_time": "2019-05-31T14:35:06.531922Z",
     "start_time": "2019-05-31T14:35:06.522317Z"
    }
   },
   "outputs": [],
   "source": [
    "class Description(SigSlot):\n",
    "    def __init__(self,ds):\n",
    "        super().__init__()\n",
    "        self.ds = ds\n",
    "        self.panel = pn.pane.HTML(style={'font-size': '12pt'},width = 400) \n",
    "        self.panel.object = \"Description Area\"\n",
    "        self.template_env = Environment(loader=FileSystemLoader('templates'))\n",
    "        self.variable_template = self.template_env.get_template('variable_info.html')\n",
    "    \n",
    "    def variable_pane(self,var):\n",
    "        variable_attributes = [(k,v) for k,v in self.ds[var].attrs.items()]\n",
    "        output = self.variable_template.render(variable_attributes = variable_attributes)\n",
    "#         pane = pn.pane.HTML(output, \n",
    "#                             style={'background-color': '#F6F6F6', 'border': '2px solid black',\n",
    "#                                     'border-radius': '5px', 'padding': '10px','width':'300px'})\n",
    "\n",
    "        return output\n",
    "    \n",
    "    def setup(self,selected_property,sub_property):\n",
    "        if selected_property == 'Variables':\n",
    "            if sub_property != None:\n",
    "                self.panel.object = self.variable_pane(sub_property)\n",
    "            else:\n",
    "                self.panel.object = str(selected_property) + \" : \"+str(sub_property)\n",
    "                \n",
    "        else:\n",
    "            self.panel.object = str(selected_property) + \" : \"+str(sub_property)           \n",
    "\n",
    "\n",
    "#     def setup(self,selected_property,sub_property):\n",
    "#         if selected_property == 'Variables':\n",
    "#             if sub_property == 'None':\n",
    "#                 self.panel.object = str(selected_property) + \" : \"+str(sub_property) \n",
    "#             else:\n",
    "#                 self.panel = self.variable_pane('lat')\n",
    "                \n",
    "\n",
    "#         else:\n",
    "#             self.panel.object = str(selected_property) + \" : \"+str(sub_property)        "
   ]
  },
  {
   "cell_type": "code",
   "execution_count": null,
   "metadata": {
    "ExecuteTime": {
     "end_time": "2019-05-31T14:35:06.573923Z",
     "start_time": "2019-05-31T14:35:06.539671Z"
    }
   },
   "outputs": [],
   "source": [
    "des = Description(ds)\n",
    "des.panel"
   ]
  },
  {
   "cell_type": "code",
   "execution_count": null,
   "metadata": {
    "ExecuteTime": {
     "end_time": "2019-05-31T14:35:06.594924Z",
     "start_time": "2019-05-31T14:35:06.587032Z"
    }
   },
   "outputs": [],
   "source": [
    "class Control(SigSlot):\n",
    "    def __init__(self,ds):\n",
    "        super().__init__()\n",
    "        self.selector = DataSelector(ds)\n",
    "        self.describer = Description(ds)\n",
    "        \n",
    "        self._register(self.selector.select,\"selection\")\n",
    "\n",
    "        self.connect(\"selection\", self.callback)\n",
    "        \n",
    "        self.panel = pn.Row(self.selector.panel,self.describer.panel)\n",
    "        \n",
    "    def callback(self,_):\n",
    "        selected_property = self.selector.selected_property\n",
    "        sub_property = self.selector.selected_subproperty\n",
    "        self.describer.setup(selected_property,sub_property)"
   ]
  },
  {
   "cell_type": "code",
   "execution_count": null,
   "metadata": {
    "ExecuteTime": {
     "end_time": "2019-05-31T14:35:06.610031Z",
     "start_time": "2019-05-31T14:35:06.598820Z"
    },
    "scrolled": true
   },
   "outputs": [],
   "source": [
    "c = Control(ds)\n",
    "c.panel.show()"
   ]
  },
  {
   "cell_type": "code",
   "execution_count": null,
   "metadata": {},
   "outputs": [],
   "source": []
  }
 ],
 "metadata": {
  "kernelspec": {
   "display_name": "Python 3",
   "language": "python",
   "name": "python3"
  },
  "language_info": {
   "codemirror_mode": {
    "name": "ipython",
    "version": 3
   },
   "file_extension": ".py",
   "mimetype": "text/x-python",
   "name": "python",
   "nbconvert_exporter": "python",
   "pygments_lexer": "ipython3",
   "version": "3.7.3"
  }
 },
 "nbformat": 4,
 "nbformat_minor": 2
}
