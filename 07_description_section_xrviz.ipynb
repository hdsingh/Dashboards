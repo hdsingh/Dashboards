{
 "cells": [
  {
   "cell_type": "code",
   "execution_count": null,
   "metadata": {
    "ExecuteTime": {
     "end_time": "2019-05-31T09:32:55.349170Z",
     "start_time": "2019-05-31T09:32:54.065256Z"
    }
   },
   "outputs": [],
   "source": [
    "from bokeh import palettes\n",
    "import panel as pn\n",
    "from hvplot import hvPlot\n",
    "\n",
    "import xarray as  xr\n",
    "import panel as pn\n",
    "pn.extension()\n",
    "\n",
    "ds = xr.open_dataset('great_lakes.nc')"
   ]
  },
  {
   "cell_type": "markdown",
   "metadata": {},
   "source": [
    "### SigSlot"
   ]
  },
  {
   "cell_type": "code",
   "execution_count": null,
   "metadata": {
    "ExecuteTime": {
     "end_time": "2019-05-31T09:32:55.360467Z",
     "start_time": "2019-05-31T09:32:55.352263Z"
    },
    "code_folding": [
     0
    ]
   },
   "outputs": [],
   "source": [
    "class SigSlot(object):\n",
    "    \"\"\"Signal-slot mixin, for Panel event passing\"\"\"\n",
    "\n",
    "    def __init__(self):\n",
    "        self._sigs = {}\n",
    "        self._map = {}\n",
    "\n",
    "    def _register(self, widget, name, thing='value'):\n",
    "        \"\"\"Watch the given attribute of a widget and assign it a named event\n",
    "\n",
    "        This is normally called at the time a widget is instantiated, in the\n",
    "        class which owns it.\n",
    "\n",
    "        Parameters\n",
    "        ----------\n",
    "        widget : pn.layout.Panel or None\n",
    "            Widget to watch. If None, an anonymous signal not associated with\n",
    "            any widget.\n",
    "        name : str\n",
    "            Name of this event\n",
    "        thing : str\n",
    "            Attribute of the given widget to watch\n",
    "        \"\"\"\n",
    "        self._sigs[name] = {'widget': widget, 'callbacks': [], 'thing': thing}\n",
    "        wn = \"-\".join([widget.name if widget is not None else \"none\", thing])\n",
    "        self._map[wn] = name\n",
    "        if widget is not None:\n",
    "            widget.param.watch(self._signal, thing, onlychanged=True)\n",
    "\n",
    "    @property\n",
    "    def signals(self):\n",
    "        \"\"\"Known named signals of this class\"\"\"\n",
    "        return list(self._sigs)\n",
    "\n",
    "    def connect(self, name, callback):\n",
    "        \"\"\"Associate call back with given event\n",
    "\n",
    "        The callback must be a function which takes the \"new\" value of the\n",
    "        watched attribute as the only parameter. If the callback return False,\n",
    "        this cancels any further processing of the given event.\n",
    "        \"\"\"\n",
    "        self._sigs[name]['callbacks'].append(callback)\n",
    "\n",
    "    def _signal(self, event):\n",
    "        wn = \"-\".join([event.obj.name, event.name])\n",
    "#         print(wn, event)\n",
    "        if wn in self._map and self._map[wn] in self._sigs:\n",
    "            self._emit(self._map[wn], event.new)\n",
    "\n",
    "    def _emit(self, sig, value=None):\n",
    "        for callback in self._sigs[sig]['callbacks']:\n",
    "            if callback(value) is False:\n",
    "                break\n",
    "\n",
    "    def show(self):\n",
    "        self.panel.show()"
   ]
  },
  {
   "cell_type": "markdown",
   "metadata": {},
   "source": [
    "### Xrviz DataArray/Coordinate Selection Panel "
   ]
  },
  {
   "cell_type": "code",
   "execution_count": null,
   "metadata": {
    "ExecuteTime": {
     "end_time": "2019-05-31T09:32:55.383238Z",
     "start_time": "2019-05-31T09:32:55.363598Z"
    },
    "code_folding": [
     70,
     77,
     83
    ]
   },
   "outputs": [],
   "source": [
    "class DataSelector(SigSlot):\n",
    "    \"\"\"\n",
    "    This widget takes input as a xarray instance.\n",
    "    For each dataset Str \"DATASET #\" is dislpayed. On selecting it, \n",
    "    the expansion occurs to show  the properties associated:\n",
    "    'Dimensions','Coordinates','Variables','Attributes'.\n",
    "    \n",
    "    It of these individual property could be expanded accordingly.\n",
    "    \n",
    "    \"\"\"\n",
    "    \n",
    "    def __init__(self,ds):\n",
    "        super().__init__()\n",
    "        if isinstance(ds,xr.Dataset) or isinstance(ds,xr.DataArray):\n",
    "            self.data = ds\n",
    "        \n",
    "        self.down = '│'\n",
    "        self.right = '└──'\n",
    "        self.properties = {'Dimensions' :'dims',\n",
    "                      'Coordinates':'coords',\n",
    "                      'Variables'  :'data_vars',\n",
    "                      'Attributes' :'attrs'}\n",
    "        \n",
    "        self.rev_map = { 'd' : 'Dimensions',\n",
    "                        'c' : 'Coordinates',\n",
    "                        'v' : 'Variables',\n",
    "                        'a' : 'Attributes'}\n",
    "            \n",
    "        self.selected_property = None\n",
    "        self.selected_subproperty = None\n",
    "        self.mark_tester = pn.pane.Markdown() ### for testing        \n",
    "        self.select =  pn.widgets.MultiSelect(size=8, min_width=300, width_policy='min')\n",
    "        self.fill_items(self.select.options)\n",
    "        \n",
    "#         self.select.param.watch(self.expand_or_collapse_nested, 'value', onlychanged=True)\n",
    "        \n",
    "        self._register(self.select,\"property_selector\")\n",
    "        self.connect(\"property_selector\",self.expand_or_collapse_nested)\n",
    "         \n",
    "        self.panel = pn.Row(self.select, self.mark_tester)\n",
    "    \n",
    "    def fill_items(self,items):\n",
    "        if isinstance(self.data,xr.Dataset):\n",
    "            items.append('# DataSet')\n",
    "            for prop in list(self.properties):\n",
    "                items.append(f'{self.right} {prop}')\n",
    "        else:\n",
    "            items.append('# DataArray')\n",
    "    \n",
    "    \n",
    "    \n",
    "    def expand_or_collapse_nested(self,value):\n",
    "        self._property = value[0].split()[-1]\n",
    "        \n",
    "        def find_prop_and_subprop(value):\n",
    "            prop,subprop = None,None\n",
    "            if \" : \" in value[0]:\n",
    "                subprop = value[0].split()[-1]\n",
    "                prop = self.rev_map[value[0].split()[-3]]\n",
    "            else:\n",
    "                prop = value[0].split()[-1]\n",
    "            return prop,subprop\n",
    "        \n",
    "        def get_children(prop):\n",
    "            ds_prop = self.properties[prop]\n",
    "            if ds_prop == \"data_vars\":\n",
    "                return ['v'+ \" : \" + child for child in getattr(ds,str(ds_prop)).keys()] \n",
    "            else:\n",
    "                return [ds_prop[0]+ \" : \" + child for child in getattr(ds,str(ds_prop)).keys()]                 \n",
    "        \n",
    "        def has_expanded(selected_property,index):\n",
    "            next_index = index+1\n",
    "            if (next_index) < len(old) and (self.down in old[next_index]):\n",
    "                return True\n",
    "            else: \n",
    "                return False\n",
    "                \n",
    "        def expand(options,name,index):\n",
    "            children  = get_children(name)\n",
    "            for i, child in enumerate(children):\n",
    "                options.insert(index+i+1, (f'{self.down} {self.right} {child}'))\n",
    "            return options\n",
    "       \n",
    "        def collapse(options,index):\n",
    "            for opt in options[index+1:]:\n",
    "                if opt.split()[0] ==self.right:\n",
    "                    break\n",
    "                if self.down in opt:\n",
    "                    options.remove(opt)\n",
    "            return options\n",
    "            \n",
    "        self.selected_property, self.selected_subproperty = find_prop_and_subprop(value)\n",
    "        if self._property == \"DataSet\" or self._property == \"DataArray\":\n",
    "            self.selected_property = self._property\n",
    "#             self.mark_tester.object = \"I have selected datset\"\n",
    "            pass\n",
    "            \n",
    "        elif self._property in list(self.properties):\n",
    "            self.selected_property = self._property\n",
    "        \n",
    "            old = list(self.select.options)\n",
    "            index,name = next((i,self.selected_property) for i,v in enumerate(old) if self.selected_property in v)\n",
    "            \n",
    "            #if the selected property has not expanded, expand it\n",
    "            if not has_expanded(self.selected_property,index):\n",
    "                old = expand(old,name,index)\n",
    "                self.select.options = list(old)\n",
    "            \n",
    "            else: \n",
    "                # if the property has expanded, collapse it\n",
    "                old = collapse(old,index)\n",
    "                self.select.options = list(old)\n",
    "        else:\n",
    "            self.selected_subproperty  = self._property\n",
    "            \n",
    "## Reason for adding initial letter in front of a property:\n",
    "##   It will act as option separator for the multiSelect.\n",
    "#    Ex: Variable 'time' could be present in both `Dimensions` and\n",
    "#        and `Coordinates`. Upon selection of any one, both are\n",
    "#        automatically selected.\n",
    "#   `d :time` belongs to dimensions while `c : time` belongs to `Coordinates`."
   ]
  },
  {
   "cell_type": "code",
   "execution_count": null,
   "metadata": {
    "ExecuteTime": {
     "end_time": "2019-05-31T09:32:55.390120Z",
     "start_time": "2019-05-31T09:32:55.387713Z"
    }
   },
   "outputs": [],
   "source": [
    "# d  = DataSelector(ds)\n",
    "# d.panel"
   ]
  },
  {
   "cell_type": "code",
   "execution_count": null,
   "metadata": {
    "ExecuteTime": {
     "end_time": "2019-05-31T09:32:55.405417Z",
     "start_time": "2019-05-31T09:32:55.396982Z"
    }
   },
   "outputs": [],
   "source": [
    "class Description(SigSlot):\n",
    "    def __init__(self,ds):\n",
    "        super().__init__()\n",
    "        self.ds = ds\n",
    "        self.panel = pn.pane.Str(style={'font-size': '12pt'},width = 400) \n",
    "        self.panel.object = \"Description Area\"\n",
    "               \n",
    "    def setup(self,selected_property,sub_property):\n",
    "        self.panel.object = str(selected_property) + \" : \"+str(sub_property)        "
   ]
  },
  {
   "cell_type": "code",
   "execution_count": null,
   "metadata": {
    "ExecuteTime": {
     "end_time": "2019-05-31T09:32:55.411985Z",
     "start_time": "2019-05-31T09:32:55.409700Z"
    }
   },
   "outputs": [],
   "source": [
    "# des = Description(ds)\n",
    "# des.panel"
   ]
  },
  {
   "cell_type": "code",
   "execution_count": null,
   "metadata": {
    "ExecuteTime": {
     "end_time": "2019-05-31T09:32:55.436361Z",
     "start_time": "2019-05-31T09:32:55.417540Z"
    }
   },
   "outputs": [],
   "source": [
    "class Control(SigSlot):\n",
    "    def __init__(self,ds):\n",
    "        super().__init__()\n",
    "        self.selector = DataSelector(ds)\n",
    "        self.describer = Description(ds)\n",
    "        \n",
    "        self._register(self.selector.select,\"selection\")\n",
    "\n",
    "        self.connect(\"selection\", self.callback)\n",
    "        \n",
    "        self.panel = pn.Row(self.selector.panel,self.describer.panel)\n",
    "        \n",
    "    def callback(self,_):\n",
    "        selected_property = self.selector.selected_property\n",
    "        sub_property = self.selector.selected_subproperty\n",
    "        self.describer.setup(selected_property,sub_property)"
   ]
  },
  {
   "cell_type": "code",
   "execution_count": null,
   "metadata": {
    "ExecuteTime": {
     "end_time": "2019-05-31T09:32:55.465082Z",
     "start_time": "2019-05-31T09:32:55.443651Z"
    },
    "scrolled": true
   },
   "outputs": [],
   "source": [
    "c = Control(ds)\n",
    "c.panel.show()"
   ]
  },
  {
   "cell_type": "code",
   "execution_count": null,
   "metadata": {},
   "outputs": [],
   "source": []
  }
 ],
 "metadata": {
  "kernelspec": {
   "display_name": "Python 3",
   "language": "python",
   "name": "python3"
  },
  "language_info": {
   "codemirror_mode": {
    "name": "ipython",
    "version": 3
   },
   "file_extension": ".py",
   "mimetype": "text/x-python",
   "name": "python",
   "nbconvert_exporter": "python",
   "pygments_lexer": "ipython3",
   "version": "3.7.3"
  }
 },
 "nbformat": 4,
 "nbformat_minor": 2
}
