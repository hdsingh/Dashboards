{
 "cells": [
  {
   "cell_type": "code",
   "execution_count": null,
   "metadata": {
    "ExecuteTime": {
     "end_time": "2019-06-10T13:49:53.503854Z",
     "start_time": "2019-06-10T13:49:51.643892Z"
    }
   },
   "outputs": [],
   "source": [
    "import xrviz as xv\n",
    "import xarray as xr\n",
    "import hvplot.xarray\n",
    "from xrviz.dashboard import Dashboard\n",
    "import panel as pn\n",
    "pn.extension()"
   ]
  },
  {
   "cell_type": "code",
   "execution_count": null,
   "metadata": {
    "ExecuteTime": {
     "end_time": "2019-06-10T13:49:53.528601Z",
     "start_time": "2019-06-10T13:49:53.516155Z"
    }
   },
   "outputs": [],
   "source": [
    "def mean_graph(data,var,selected_dims,quadmesh = False):\n",
    "    if quadmesh == True:\n",
    "        mean_plot = data[var].mean(selected_dims).hvplot.quadmesh()\n",
    "    else:\n",
    "        mean_plot = data[var].mean(selected_dims).hvplot()\n",
    "    return mean_plot"
   ]
  },
  {
   "cell_type": "markdown",
   "metadata": {},
   "source": [
    "## great_lakes"
   ]
  },
  {
   "cell_type": "code",
   "execution_count": null,
   "metadata": {
    "ExecuteTime": {
     "end_time": "2019-06-10T13:49:53.556027Z",
     "start_time": "2019-06-10T13:49:53.544076Z"
    }
   },
   "outputs": [],
   "source": [
    "data = xv.sample_data.great_lakes\n",
    "data = data.set_coords(['lat','lon'])"
   ]
  },
  {
   "cell_type": "markdown",
   "metadata": {},
   "source": [
    "### 4-D Variable (u,v,temp)"
   ]
  },
  {
   "cell_type": "code",
   "execution_count": null,
   "metadata": {
    "ExecuteTime": {
     "end_time": "2019-06-10T13:49:53.601663Z",
     "start_time": "2019-06-10T13:49:53.569541Z"
    }
   },
   "outputs": [],
   "source": [
    "var = 'temp'\n",
    "dims = (data[var].dims)\n",
    "dims"
   ]
  },
  {
   "cell_type": "markdown",
   "metadata": {},
   "source": [
    "#### 3 selections"
   ]
  },
  {
   "cell_type": "code",
   "execution_count": null,
   "metadata": {
    "ExecuteTime": {
     "end_time": "2019-06-10T13:49:54.518682Z",
     "start_time": "2019-06-10T13:49:53.616413Z"
    }
   },
   "outputs": [],
   "source": [
    "mean_graph(data,var,dims[1:]) #only Quadmesh = False works"
   ]
  },
  {
   "cell_type": "markdown",
   "metadata": {},
   "source": [
    "#### 2 selections"
   ]
  },
  {
   "cell_type": "code",
   "execution_count": null,
   "metadata": {
    "ExecuteTime": {
     "end_time": "2019-06-10T13:49:54.707665Z",
     "start_time": "2019-06-10T13:49:54.521865Z"
    }
   },
   "outputs": [],
   "source": [
    "mean_graph(data,var,dims[:-2],True) #only Quadmesh = True works"
   ]
  },
  {
   "cell_type": "code",
   "execution_count": null,
   "metadata": {
    "ExecuteTime": {
     "end_time": "2019-06-10T13:49:54.713593Z",
     "start_time": "2019-06-10T13:49:54.711275Z"
    }
   },
   "outputs": [],
   "source": [
    "# mean_graph(data,var,dims[:-2]) #Does not works"
   ]
  },
  {
   "cell_type": "code",
   "execution_count": null,
   "metadata": {
    "ExecuteTime": {
     "end_time": "2019-06-10T13:49:54.823793Z",
     "start_time": "2019-06-10T13:49:54.717202Z"
    }
   },
   "outputs": [],
   "source": [
    "mean_graph(data,var,dims[2:],True) "
   ]
  },
  {
   "cell_type": "code",
   "execution_count": null,
   "metadata": {
    "ExecuteTime": {
     "end_time": "2019-06-10T13:49:54.918847Z",
     "start_time": "2019-06-10T13:49:54.828916Z"
    }
   },
   "outputs": [],
   "source": [
    "mean_graph(data,var,dims[2:],True) #Both work"
   ]
  },
  {
   "cell_type": "markdown",
   "metadata": {},
   "source": [
    "#### 1 selection"
   ]
  },
  {
   "cell_type": "code",
   "execution_count": null,
   "metadata": {
    "ExecuteTime": {
     "end_time": "2019-06-10T13:49:54.934119Z",
     "start_time": "2019-06-10T13:49:54.929967Z"
    }
   },
   "outputs": [],
   "source": [
    "# data[var].mean(dims[0]).hvplot.quadmesh() #Does not works"
   ]
  },
  {
   "cell_type": "code",
   "execution_count": null,
   "metadata": {
    "ExecuteTime": {
     "end_time": "2019-06-10T13:49:55.055780Z",
     "start_time": "2019-06-10T13:49:54.938387Z"
    }
   },
   "outputs": [],
   "source": [
    "mean_graph(data,var,dims[0]) "
   ]
  },
  {
   "cell_type": "code",
   "execution_count": null,
   "metadata": {
    "ExecuteTime": {
     "end_time": "2019-06-10T13:49:55.191035Z",
     "start_time": "2019-06-10T13:49:55.062001Z"
    }
   },
   "outputs": [],
   "source": [
    "mean_graph(data,var,dims[1])"
   ]
  },
  {
   "cell_type": "code",
   "execution_count": null,
   "metadata": {
    "ExecuteTime": {
     "end_time": "2019-06-10T13:49:55.499619Z",
     "start_time": "2019-06-10T13:49:55.195581Z"
    }
   },
   "outputs": [],
   "source": [
    "mean_graph(data,var,dims[1],True)"
   ]
  },
  {
   "cell_type": "code",
   "execution_count": null,
   "metadata": {
    "ExecuteTime": {
     "end_time": "2019-06-10T13:49:55.505442Z",
     "start_time": "2019-06-10T13:49:55.503016Z"
    }
   },
   "outputs": [],
   "source": [
    "# mean_graph(data,var,dims[2]) #Does not works"
   ]
  },
  {
   "cell_type": "code",
   "execution_count": null,
   "metadata": {
    "ExecuteTime": {
     "end_time": "2019-06-10T13:49:55.512771Z",
     "start_time": "2019-06-10T13:49:55.509704Z"
    }
   },
   "outputs": [],
   "source": [
    "# mean_graph(data,var,dims[2],True) #Does not works"
   ]
  },
  {
   "cell_type": "markdown",
   "metadata": {},
   "source": [
    "### 3-D Variable"
   ]
  },
  {
   "cell_type": "code",
   "execution_count": null,
   "metadata": {
    "ExecuteTime": {
     "end_time": "2019-06-10T13:49:55.532833Z",
     "start_time": "2019-06-10T13:49:55.521869Z"
    }
   },
   "outputs": [],
   "source": [
    "var = 'air_u'\n",
    "dims = (data[var].dims)\n",
    "dims"
   ]
  },
  {
   "cell_type": "markdown",
   "metadata": {},
   "source": [
    "#### 2 Selections"
   ]
  },
  {
   "cell_type": "code",
   "execution_count": null,
   "metadata": {
    "ExecuteTime": {
     "end_time": "2019-06-10T13:49:55.687294Z",
     "start_time": "2019-06-10T13:49:55.541117Z"
    }
   },
   "outputs": [],
   "source": [
    "mean_graph(data,var,dims[1:])"
   ]
  },
  {
   "cell_type": "code",
   "execution_count": null,
   "metadata": {
    "ExecuteTime": {
     "end_time": "2019-06-10T13:49:55.893842Z",
     "start_time": "2019-06-10T13:49:55.690416Z"
    }
   },
   "outputs": [],
   "source": [
    "mean_graph(data,var,dims[:-1])"
   ]
  },
  {
   "cell_type": "markdown",
   "metadata": {},
   "source": [
    "#### 1 Selection"
   ]
  },
  {
   "cell_type": "code",
   "execution_count": null,
   "metadata": {
    "ExecuteTime": {
     "end_time": "2019-06-10T13:49:56.126071Z",
     "start_time": "2019-06-10T13:49:55.903834Z"
    }
   },
   "outputs": [],
   "source": [
    "mean_graph(data,var,dims[:-2],True)"
   ]
  },
  {
   "cell_type": "code",
   "execution_count": null,
   "metadata": {
    "ExecuteTime": {
     "end_time": "2019-06-10T13:49:56.334612Z",
     "start_time": "2019-06-10T13:49:56.131072Z"
    }
   },
   "outputs": [],
   "source": [
    "mean_graph(data,var,dims[-1])"
   ]
  },
  {
   "cell_type": "code",
   "execution_count": null,
   "metadata": {
    "ExecuteTime": {
     "end_time": "2019-06-10T13:49:56.353651Z",
     "start_time": "2019-06-10T13:49:56.346007Z"
    }
   },
   "outputs": [],
   "source": [
    "# mean_graph(data,var,dims[-1],True) #Does not works"
   ]
  },
  {
   "cell_type": "markdown",
   "metadata": {},
   "source": [
    "## air_temperature"
   ]
  },
  {
   "cell_type": "code",
   "execution_count": null,
   "metadata": {
    "ExecuteTime": {
     "end_time": "2019-06-10T13:49:56.398994Z",
     "start_time": "2019-06-10T13:49:56.361756Z"
    }
   },
   "outputs": [],
   "source": [
    "data = xr.tutorial.open_dataset('air_temperature')\n",
    "var = 'air'\n",
    "dims = (data[var].dims)\n",
    "dims"
   ]
  },
  {
   "cell_type": "code",
   "execution_count": null,
   "metadata": {
    "ExecuteTime": {
     "end_time": "2019-06-10T13:49:56.725370Z",
     "start_time": "2019-06-10T13:49:56.406472Z"
    }
   },
   "outputs": [],
   "source": [
    "mean_graph(data,var,dims[-1]) #Both Work"
   ]
  },
  {
   "cell_type": "code",
   "execution_count": null,
   "metadata": {
    "ExecuteTime": {
     "end_time": "2019-06-10T13:49:56.968937Z",
     "start_time": "2019-06-10T13:49:56.730313Z"
    }
   },
   "outputs": [],
   "source": [
    "mean_graph(data,var,dims[-1]) #Both Work"
   ]
  },
  {
   "cell_type": "code",
   "execution_count": null,
   "metadata": {
    "ExecuteTime": {
     "end_time": "2019-06-10T13:49:57.074000Z",
     "start_time": "2019-06-10T13:49:56.974442Z"
    }
   },
   "outputs": [],
   "source": [
    "data[var].mean(dims[-1])[0].hvplot()"
   ]
  },
  {
   "cell_type": "markdown",
   "metadata": {},
   "source": [
    "### 3-D Variable"
   ]
  },
  {
   "cell_type": "markdown",
   "metadata": {},
   "source": [
    "#### 2 Selections"
   ]
  },
  {
   "cell_type": "code",
   "execution_count": null,
   "metadata": {
    "ExecuteTime": {
     "end_time": "2019-06-10T13:49:57.300270Z",
     "start_time": "2019-06-10T13:49:57.077337Z"
    }
   },
   "outputs": [],
   "source": [
    "mean_graph(data,var,dims[1:]) #Only Quadmesh=False works"
   ]
  },
  {
   "cell_type": "code",
   "execution_count": null,
   "metadata": {
    "ExecuteTime": {
     "end_time": "2019-06-10T13:49:57.559140Z",
     "start_time": "2019-06-10T13:49:57.309443Z"
    }
   },
   "outputs": [],
   "source": [
    "mean_graph(data,var,[dims[0],dims[1]]) #Only Quadmesh=False works"
   ]
  },
  {
   "cell_type": "code",
   "execution_count": null,
   "metadata": {
    "ExecuteTime": {
     "end_time": "2019-06-10T13:49:57.650819Z",
     "start_time": "2019-06-10T13:49:57.568497Z"
    }
   },
   "outputs": [],
   "source": [
    "mean_graph(data,var,[dims[0],dims[2]]) #Only Quadmesh=False works"
   ]
  },
  {
   "cell_type": "markdown",
   "metadata": {},
   "source": [
    "#### 1 Selection"
   ]
  },
  {
   "cell_type": "code",
   "execution_count": null,
   "metadata": {
    "ExecuteTime": {
     "end_time": "2019-06-10T13:49:57.739081Z",
     "start_time": "2019-06-10T13:49:57.654695Z"
    }
   },
   "outputs": [],
   "source": [
    "mean_graph(data,var,dims[:-2])  #Both Work"
   ]
  },
  {
   "cell_type": "code",
   "execution_count": null,
   "metadata": {
    "ExecuteTime": {
     "end_time": "2019-06-10T13:49:57.862643Z",
     "start_time": "2019-06-10T13:49:57.742437Z"
    }
   },
   "outputs": [],
   "source": [
    "mean_graph(data,var,dims[:-2]) #Both Work"
   ]
  },
  {
   "cell_type": "code",
   "execution_count": null,
   "metadata": {
    "ExecuteTime": {
     "end_time": "2019-06-10T13:49:57.978452Z",
     "start_time": "2019-06-10T13:49:57.866093Z"
    }
   },
   "outputs": [],
   "source": [
    "mean_graph(data,var,dims[1]) #Both Work"
   ]
  },
  {
   "cell_type": "code",
   "execution_count": null,
   "metadata": {
    "ExecuteTime": {
     "end_time": "2019-06-10T13:49:58.111834Z",
     "start_time": "2019-06-10T13:49:57.985604Z"
    }
   },
   "outputs": [],
   "source": [
    "mean_graph(data,var,dims[2]) #Both Work"
   ]
  },
  {
   "cell_type": "markdown",
   "metadata": {},
   "source": [
    "## "
   ]
  },
  {
   "cell_type": "code",
   "execution_count": null,
   "metadata": {},
   "outputs": [],
   "source": []
  }
 ],
 "metadata": {
  "kernelspec": {
   "display_name": "Python 3",
   "language": "python",
   "name": "python3"
  },
  "language_info": {
   "codemirror_mode": {
    "name": "ipython",
    "version": 3
   },
   "file_extension": ".py",
   "mimetype": "text/x-python",
   "name": "python",
   "nbconvert_exporter": "python",
   "pygments_lexer": "ipython3",
   "version": "3.7.3"
  }
 },
 "nbformat": 4,
 "nbformat_minor": 2
}
