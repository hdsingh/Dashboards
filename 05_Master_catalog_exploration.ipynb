{
 "cells": [
  {
   "cell_type": "code",
   "execution_count": null,
   "metadata": {},
   "outputs": [],
   "source": [
    "import intake\n",
    "from cartopy import crs as ccrs\n",
    "import hvplot.xarray\n",
    "import holoviews as hv\n",
    "import geoviews as gv\n",
    "from geoviews import tile_sources as gvts\n",
    "import panel as pn\n",
    "import geoviews.feature as gf\n",
    "from geoviews import opts\n",
    "from geoviews import tile_sources as gvts\n",
    "colormaps = hv.plotting.list_cmaps()"
   ]
  },
  {
   "cell_type": "code",
   "execution_count": null,
   "metadata": {},
   "outputs": [],
   "source": [
    "master_catalog = 'https://raw.githubusercontent.com/pangeo-data/pangeo-datastore/master/intake-catalogs/master.yaml'\n",
    "cat = intake.open_catalog(master_catalog)"
   ]
  },
  {
   "cell_type": "code",
   "execution_count": null,
   "metadata": {},
   "outputs": [],
   "source": [
    "ocean = cat.ocean\n",
    "hydro = cat.hydro\n",
    "atmos = cat.atmosphere"
   ]
  },
  {
   "cell_type": "code",
   "execution_count": null,
   "metadata": {},
   "outputs": [],
   "source": [
    "gui = intake.gui \n",
    "gui.add(master_catalog)\n",
    "gui"
   ]
  },
  {
   "cell_type": "markdown",
   "metadata": {},
   "source": [
    "Create plot for these datasets "
   ]
  },
  {
   "cell_type": "code",
   "execution_count": null,
   "metadata": {},
   "outputs": [],
   "source": [
    "# ds = gui.item  #cmip6.A3hr.BCC_CSM2_MR.historical.r1i1p1f1.zos\n",
    "# ds = gui.item #cmip6.A3hr.CNRM_CM6_1.historical.r1i1p1f2.huss\n",
    "# ds = ocean.sea_surface_height\n",
    "ds = atmos.wrf50_erai"
   ]
  },
  {
   "cell_type": "code",
   "execution_count": null,
   "metadata": {},
   "outputs": [],
   "source": [
    "ds = ds.to_dask()"
   ]
  },
  {
   "cell_type": "markdown",
   "metadata": {},
   "source": [
    "### Template Code"
   ]
  },
  {
   "cell_type": "code",
   "execution_count": null,
   "metadata": {},
   "outputs": [],
   "source": [
    "vars = []\n",
    "for var in ds.data_vars:\n",
    "    vars.append(var)\n",
    "\n",
    "crs = ccrs.PlateCarree()\n",
    "var_select = pn.widgets.Select(name='Variables:', options=vars, value=vars[0])\n",
    "base_map_select = pn.widgets.Select(name='Basemap:', options=gvts.tile_sources, value=gvts.OSM)  \n",
    "cmap_select = pn.widgets.Select(name='Color Map:', options=colormaps, value='jet')\n",
    "\n",
    "def plot(var=None, base_map=None,cmap = None):\n",
    "    base_map = base_map or base_map_select.value\n",
    "    var = var or var_select.value\n",
    "    cmap = cmap or cmap_select.value\n",
    "    mesh = ds[var][-2:,:,:].hvplot.quadmesh(rasterize=True, title=var,datashade = True,\n",
    "                                    width=600, height=400, rot = 60, dynamic = True,\n",
    "                                    groupby=list(ds[var].dims[:-2]),cmap = cmap)\n",
    "    mesh = mesh.redim.default(**{d: ds[d].values.max() for d in ds[var].dims[:-2]})\n",
    "    overlay = (base_map * mesh.opts(alpha=0.5)).opts(active_tools=['wheel_zoom', 'pan'])\n",
    "    widgets = {dim: pn.widgets.Select for dim in ds[var].dims[:-2]}\n",
    "    return pn.pane.HoloViews(overlay, widgets=widgets).layout\n",
    "\n",
    "def on_var_select(event):\n",
    "    var = event.obj.value\n",
    "    dashboard[-1] = plot(var=var)\n",
    "    \n",
    "def on_base_map_select(event):\n",
    "    base_map = event.obj.value\n",
    "    dashboard[-1] = plot(base_map=base_map)\n",
    "\n",
    "def on_cmap_select(event):\n",
    "    cmap = event.obj.value\n",
    "    dashboard[-1] = plot(cmap=cmap)\n",
    "    \n",
    "    \n",
    "var_select.param.watch(on_var_select, parameter_names=['value']);\n",
    "base_map_select.param.watch(on_base_map_select, parameter_names=['value']);\n",
    "cmap_select.param.watch(on_cmap_select, parameter_names=['value']);\n",
    "\n",
    "dashboard = pn.Column(var_select, base_map_select, cmap_select,plot(var_select.value))"
   ]
  },
  {
   "cell_type": "code",
   "execution_count": null,
   "metadata": {
    "scrolled": false
   },
   "outputs": [],
   "source": [
    "dashboard.servable()"
   ]
  }
 ],
 "metadata": {
  "kernelspec": {
   "display_name": "Python 3",
   "language": "python",
   "name": "python3"
  },
  "language_info": {
   "codemirror_mode": {
    "name": "ipython",
    "version": 3
   },
   "file_extension": ".py",
   "mimetype": "text/x-python",
   "name": "python",
   "nbconvert_exporter": "python",
   "pygments_lexer": "ipython3",
   "version": "3.7.3"
  }
 },
 "nbformat": 4,
 "nbformat_minor": 2
}
